{
 "cells": [
  {
   "cell_type": "markdown",
   "metadata": {},
   "source": [
    "### Рамочный ноутбук для ДЗ №5 \"Классификация с использованием библиотеки Scikit-learn и интерпретация признаков\""
   ]
  },
  {
   "cell_type": "markdown",
   "metadata": {},
   "source": [
    "импорт библиотек и определение служебных функций"
   ]
  },
  {
   "cell_type": "code",
   "execution_count": null,
   "metadata": {},
   "outputs": [],
   "source": [
    "%matplotlib inline\n",
    "\n",
    "import numpy as np\n",
    "import os, sys\n",
    "import matplotlib.pyplot as plt\n",
    "import urllib.request\n",
    "import pandas as pd\n",
    "\n",
    "from sklearn.model_selection import train_test_split\n",
    "\n",
    "from sklearn.dummy import DummyClassifier"
   ]
  },
  {
   "cell_type": "code",
   "execution_count": null,
   "metadata": {},
   "outputs": [],
   "source": [
    "import warnings\n",
    "warnings.filterwarnings('ignore')"
   ]
  },
  {
   "cell_type": "code",
   "execution_count": 42,
   "metadata": {},
   "outputs": [],
   "source": [
    "def md5(fname):\n",
    "    import hashlib\n",
    "    hash_md5 = hashlib.md5()\n",
    "    with open(fname, \"rb\") as f:\n",
    "        for chunk in iter(lambda: f.read(4096), b\"\"):\n",
    "            hash_md5.update(chunk)\n",
    "    return hash_md5.hexdigest()\n",
    "\n",
    "def show_progress(block_num, block_size, total_size):\n",
    "    print(round(block_num * block_size / total_size *100,2), end=\"\\r\")"
   ]
  },
  {
   "cell_type": "code",
   "execution_count": 2,
   "metadata": {},
   "outputs": [],
   "source": [
    "def sample_bootstrap(X, y, sample_size, return_OOB_sample = False):\n",
    "    sample_indices = np.random.randint(0,X.shape[0], sample_size)\n",
    "    if return_OOB_sample:\n",
    "        oob_indices = np.array([i for i in np.arange(0, X.shape[0], 1, dtype=int) if i not in sample_indices])\n",
    "        return X[sample_indices, :], y[sample_indices], X[oob_indices, :], y[oob_indices]\n",
    "    else:\n",
    "        return X[sample_indices, :], y[sample_indices]"
   ]
  },
  {
   "cell_type": "code",
   "execution_count": null,
   "metadata": {},
   "outputs": [],
   "source": []
  },
  {
   "cell_type": "markdown",
   "metadata": {},
   "source": [
    "Следующие две ячейки предназначены для загрузки данных."
   ]
  },
  {
   "cell_type": "code",
   "execution_count": 50,
   "metadata": {},
   "outputs": [],
   "source": [
    "# Не меняйте содержимое этой ячейки\n",
    "# Этот хэш нужен для проверки скачиваемого файла данных\n",
    "\n",
    "valid_csv_data_hash = '08be44718421aa88ca2742447c480522'"
   ]
  },
  {
   "cell_type": "code",
   "execution_count": 5,
   "metadata": {},
   "outputs": [
    {
     "name": "stdout",
     "output_type": "stream",
     "text": [
      "downloading DCIPP data:\n",
      "DCIPP data is valid\n"
     ]
    }
   ],
   "source": [
    "if not os.path.exists('DCIPP_dataset.csv'):\n",
    "    print('downloading DCIPP data:')\n",
    "    urllib.request.urlretrieve(\"https://ml4es.ru/links/dcipp-dataset-csv\", \"DCIPP_dataset.csv\", show_progress)\n",
    "downloaded_DCIPP_data_hash = md5('./DCIPP_dataset.csv')\n",
    "assert downloaded_DCIPP_data_hash == valid_csv_data_hash, 'Downloaded DCIPP data is corrupt. Try downloading again.'\n",
    "print('DCIPP data is valid')"
   ]
  },
  {
   "cell_type": "code",
   "execution_count": null,
   "metadata": {},
   "outputs": [],
   "source": []
  },
  {
   "cell_type": "markdown",
   "metadata": {},
   "source": [
    "чтение данных и визуальное отображение отдельного экземпляра"
   ]
  },
  {
   "cell_type": "code",
   "execution_count": 14,
   "metadata": {},
   "outputs": [],
   "source": [
    "df = pd.read_csv('./DCIPP_dataset.csv')"
   ]
  },
  {
   "cell_type": "code",
   "execution_count": 51,
   "metadata": {},
   "outputs": [
    {
     "data": {
      "text/html": [
       "<div>\n",
       "<style scoped>\n",
       "    .dataframe tbody tr th:only-of-type {\n",
       "        vertical-align: middle;\n",
       "    }\n",
       "\n",
       "    .dataframe tbody tr th {\n",
       "        vertical-align: top;\n",
       "    }\n",
       "\n",
       "    .dataframe thead th {\n",
       "        text-align: right;\n",
       "    }\n",
       "</style>\n",
       "<table border=\"1\" class=\"dataframe\">\n",
       "  <thead>\n",
       "    <tr style=\"text-align: right;\">\n",
       "      <th></th>\n",
       "      <th>date</th>\n",
       "      <th>year</th>\n",
       "      <th>month</th>\n",
       "      <th>day</th>\n",
       "      <th>nans</th>\n",
       "      <th>range</th>\n",
       "      <th>max</th>\n",
       "      <th>mean</th>\n",
       "      <th>std</th>\n",
       "      <th>svar</th>\n",
       "      <th>...</th>\n",
       "      <th>E5Lq_500[g/kg]</th>\n",
       "      <th>E5Lw_850[Pa/s]</th>\n",
       "      <th>E5Lw_700[Pa/s]</th>\n",
       "      <th>E5Lw_500[Pa/s]</th>\n",
       "      <th>E5Ld_950[10^5/s]</th>\n",
       "      <th>E5Ld_300[10^5/s]</th>\n",
       "      <th>E5Ld_500[10^5/s]</th>\n",
       "      <th>E5Lz_500[km]</th>\n",
       "      <th>E5Lz_700[km]</th>\n",
       "      <th>E5Lz_850[k]</th>\n",
       "    </tr>\n",
       "  </thead>\n",
       "  <tbody>\n",
       "    <tr>\n",
       "      <th>0</th>\n",
       "      <td>1989-05-01</td>\n",
       "      <td>1989</td>\n",
       "      <td>5</td>\n",
       "      <td>1</td>\n",
       "      <td>0</td>\n",
       "      <td>0.4</td>\n",
       "      <td>0.4</td>\n",
       "      <td>0.01481</td>\n",
       "      <td>0.07698</td>\n",
       "      <td>0.00593</td>\n",
       "      <td>...</td>\n",
       "      <td>0.63209</td>\n",
       "      <td>-0.10120</td>\n",
       "      <td>-0.06646</td>\n",
       "      <td>-0.07441</td>\n",
       "      <td>-1.28371</td>\n",
       "      <td>0.84708</td>\n",
       "      <td>-0.21159</td>\n",
       "      <td>5.66631</td>\n",
       "      <td>3.06995</td>\n",
       "      <td>1.49678</td>\n",
       "    </tr>\n",
       "    <tr>\n",
       "      <th>1</th>\n",
       "      <td>1989-05-02</td>\n",
       "      <td>1989</td>\n",
       "      <td>5</td>\n",
       "      <td>2</td>\n",
       "      <td>0</td>\n",
       "      <td>4.9</td>\n",
       "      <td>4.9</td>\n",
       "      <td>0.68519</td>\n",
       "      <td>1.35127</td>\n",
       "      <td>1.82593</td>\n",
       "      <td>...</td>\n",
       "      <td>0.97320</td>\n",
       "      <td>-0.11413</td>\n",
       "      <td>-0.15533</td>\n",
       "      <td>-0.19135</td>\n",
       "      <td>-0.79981</td>\n",
       "      <td>1.09787</td>\n",
       "      <td>-0.04874</td>\n",
       "      <td>5.61616</td>\n",
       "      <td>3.03750</td>\n",
       "      <td>1.47336</td>\n",
       "    </tr>\n",
       "    <tr>\n",
       "      <th>2</th>\n",
       "      <td>1989-05-03</td>\n",
       "      <td>1989</td>\n",
       "      <td>5</td>\n",
       "      <td>3</td>\n",
       "      <td>0</td>\n",
       "      <td>21.8</td>\n",
       "      <td>21.8</td>\n",
       "      <td>4.30741</td>\n",
       "      <td>4.67456</td>\n",
       "      <td>21.85148</td>\n",
       "      <td>...</td>\n",
       "      <td>0.67237</td>\n",
       "      <td>-0.07146</td>\n",
       "      <td>-0.09326</td>\n",
       "      <td>-0.08508</td>\n",
       "      <td>-0.91296</td>\n",
       "      <td>0.50321</td>\n",
       "      <td>0.19399</td>\n",
       "      <td>5.54298</td>\n",
       "      <td>2.98579</td>\n",
       "      <td>1.43421</td>\n",
       "    </tr>\n",
       "    <tr>\n",
       "      <th>3</th>\n",
       "      <td>1989-05-04</td>\n",
       "      <td>1989</td>\n",
       "      <td>5</td>\n",
       "      <td>4</td>\n",
       "      <td>0</td>\n",
       "      <td>5.7</td>\n",
       "      <td>5.7</td>\n",
       "      <td>0.55185</td>\n",
       "      <td>1.55820</td>\n",
       "      <td>2.42798</td>\n",
       "      <td>...</td>\n",
       "      <td>0.57976</td>\n",
       "      <td>-0.01823</td>\n",
       "      <td>0.00713</td>\n",
       "      <td>0.03115</td>\n",
       "      <td>-0.25295</td>\n",
       "      <td>-0.59028</td>\n",
       "      <td>-0.00523</td>\n",
       "      <td>5.54607</td>\n",
       "      <td>2.98530</td>\n",
       "      <td>1.43596</td>\n",
       "    </tr>\n",
       "    <tr>\n",
       "      <th>4</th>\n",
       "      <td>1989-05-05</td>\n",
       "      <td>1989</td>\n",
       "      <td>5</td>\n",
       "      <td>5</td>\n",
       "      <td>0</td>\n",
       "      <td>9.0</td>\n",
       "      <td>9.0</td>\n",
       "      <td>1.55556</td>\n",
       "      <td>2.33787</td>\n",
       "      <td>5.46564</td>\n",
       "      <td>...</td>\n",
       "      <td>0.61954</td>\n",
       "      <td>0.00242</td>\n",
       "      <td>0.01053</td>\n",
       "      <td>-0.00686</td>\n",
       "      <td>0.22766</td>\n",
       "      <td>-0.08115</td>\n",
       "      <td>-0.07807</td>\n",
       "      <td>5.49325</td>\n",
       "      <td>2.94660</td>\n",
       "      <td>1.40529</td>\n",
       "    </tr>\n",
       "  </tbody>\n",
       "</table>\n",
       "<p>5 rows × 77 columns</p>\n",
       "</div>"
      ],
      "text/plain": [
       "         date  year  month  day  nans  range   max     mean      std  \\\n",
       "0  1989-05-01  1989      5    1     0    0.4   0.4  0.01481  0.07698   \n",
       "1  1989-05-02  1989      5    2     0    4.9   4.9  0.68519  1.35127   \n",
       "2  1989-05-03  1989      5    3     0   21.8  21.8  4.30741  4.67456   \n",
       "3  1989-05-04  1989      5    4     0    5.7   5.7  0.55185  1.55820   \n",
       "4  1989-05-05  1989      5    5     0    9.0   9.0  1.55556  2.33787   \n",
       "\n",
       "       svar  ...  E5Lq_500[g/kg]  E5Lw_850[Pa/s]  E5Lw_700[Pa/s]  \\\n",
       "0   0.00593  ...         0.63209        -0.10120        -0.06646   \n",
       "1   1.82593  ...         0.97320        -0.11413        -0.15533   \n",
       "2  21.85148  ...         0.67237        -0.07146        -0.09326   \n",
       "3   2.42798  ...         0.57976        -0.01823         0.00713   \n",
       "4   5.46564  ...         0.61954         0.00242         0.01053   \n",
       "\n",
       "   E5Lw_500[Pa/s]  E5Ld_950[10^5/s]  E5Ld_300[10^5/s]  E5Ld_500[10^5/s]  \\\n",
       "0        -0.07441          -1.28371           0.84708          -0.21159   \n",
       "1        -0.19135          -0.79981           1.09787          -0.04874   \n",
       "2        -0.08508          -0.91296           0.50321           0.19399   \n",
       "3         0.03115          -0.25295          -0.59028          -0.00523   \n",
       "4        -0.00686           0.22766          -0.08115          -0.07807   \n",
       "\n",
       "   E5Lz_500[km]  E5Lz_700[km]  E5Lz_850[k]  \n",
       "0       5.66631       3.06995      1.49678  \n",
       "1       5.61616       3.03750      1.47336  \n",
       "2       5.54298       2.98579      1.43421  \n",
       "3       5.54607       2.98530      1.43596  \n",
       "4       5.49325       2.94660      1.40529  \n",
       "\n",
       "[5 rows x 77 columns]"
      ]
     },
     "execution_count": 51,
     "metadata": {},
     "output_type": "execute_result"
    }
   ],
   "source": [
    "# отобразим первые несколько строк считанных данных\n",
    "df.head()"
   ]
  },
  {
   "cell_type": "code",
   "execution_count": 16,
   "metadata": {},
   "outputs": [
    {
     "data": {
      "text/plain": [
       "Index(['date', 'year', 'month', 'day', 'nans', 'range', 'max', 'mean', 'std',\n",
       "       'svar', 'kurt', 'skew', 'm2', 'm3', 'm4', 'q_25', 'q_5', 'q_75', 'q_9',\n",
       "       'q_95', 'q_975', 'q_99', 'q_999', 'urb_mean', 'sub_mean', 'diff',\n",
       "       'diff_perc', 'E5Stpsmean', 'E5Stpsmax', 'E5Stprange', 'E5Stpstd',\n",
       "       'E5Stpvar', 'E5Stpkurt', 'E5Stpskew', 'E5Stpm2', 'E5Stpm3', 'E5Stpm4',\n",
       "       'E5Stpq_25', 'E5Stpq_5', 'E5Stpq_75', 'E5Stpq_9', 'E5Stpq_95',\n",
       "       'E5Stpq_975', 'E5Stpq_99', 'E5Stpq_999', 'SBCAPE[J/kg]', 'MLCAPE[J/kg]',\n",
       "       'MUCAPE[J/kg]', 'LLS[m/s]', 'MLS[m/s]', 'DLS[m/s]', 'LR58[K/km]',\n",
       "       'MLMR05[kg/kg]', 'd_thetaPE[K]', 'PW[kg/m2]', 'TFP_ZTE[-]',\n",
       "       'DT850[K/km2]', 'GT850[K/km]', 'DPSFC[Pa/km2]', 'GPSFC[Pa/km]',\n",
       "       'E5SWIND10[m/s]', 'E5SE5SDIVWV[g/m2s]', 'E5Smsl[hPa]',\n",
       "       'E5LWIND_500[m/s]', 'E5Lt_500[K]', 'E5Lt_850[K]', 'E5Lt_700[K]',\n",
       "       'E5Lq_500[g/kg]', 'E5Lw_850[Pa/s]', 'E5Lw_700[Pa/s]', 'E5Lw_500[Pa/s]',\n",
       "       'E5Ld_950[10^5/s]', 'E5Ld_300[10^5/s]', 'E5Ld_500[10^5/s]',\n",
       "       'E5Lz_500[km]', 'E5Lz_700[km]', 'E5Lz_850[k]'],\n",
       "      dtype='object')"
      ]
     },
     "execution_count": 16,
     "metadata": {},
     "output_type": "execute_result"
    }
   ],
   "source": [
    "df.columns"
   ]
  },
  {
   "cell_type": "code",
   "execution_count": 22,
   "metadata": {},
   "outputs": [
    {
     "data": {
      "text/plain": [
       "(4339, 77)"
      ]
     },
     "execution_count": 22,
     "metadata": {},
     "output_type": "execute_result"
    }
   ],
   "source": [
    "df.shape"
   ]
  },
  {
   "cell_type": "code",
   "execution_count": 52,
   "metadata": {},
   "outputs": [],
   "source": [
    "# удалим все строки с отсутствующими значениями\n",
    "df = df.dropna()"
   ]
  },
  {
   "cell_type": "code",
   "execution_count": 24,
   "metadata": {},
   "outputs": [
    {
     "data": {
      "text/plain": [
       "(3908, 77)"
      ]
     },
     "execution_count": 24,
     "metadata": {},
     "output_type": "execute_result"
    }
   ],
   "source": [
    "df.shape"
   ]
  },
  {
   "cell_type": "code",
   "execution_count": null,
   "metadata": {},
   "outputs": [],
   "source": []
  },
  {
   "cell_type": "code",
   "execution_count": 54,
   "metadata": {},
   "outputs": [],
   "source": [
    "# в признаковом описании оставим только независимые переменные, не связанные напрямую с осадками\n",
    "X = np.array(df[df.columns[23:]])\n",
    "\n",
    "# в качестве целевой переменной примем факт превышения 40мм максимальными суточными осадками по 27 станциям региона\n",
    "y = np.array(df['max']>=40.0)"
   ]
  },
  {
   "cell_type": "code",
   "execution_count": 35,
   "metadata": {},
   "outputs": [
    {
     "data": {
      "text/plain": [
       "((3908, 54), (3908,))"
      ]
     },
     "execution_count": 35,
     "metadata": {},
     "output_type": "execute_result"
    }
   ],
   "source": [
    "X.shape, y.shape"
   ]
  },
  {
   "cell_type": "code",
   "execution_count": 55,
   "metadata": {},
   "outputs": [
    {
     "data": {
      "text/plain": [
       "(206, 3702)"
      ]
     },
     "execution_count": 55,
     "metadata": {},
     "output_type": "execute_result"
    }
   ],
   "source": [
    "# разведочный анализ данных: выявим соотношение классов\n",
    "\n",
    "(y==True).sum(), (y==False).sum()"
   ]
  },
  {
   "cell_type": "code",
   "execution_count": 37,
   "metadata": {},
   "outputs": [],
   "source": [
    "Xtrain,Xtest,ytrain,ytest = train_test_split(X, y, test_size=0.25)"
   ]
  },
  {
   "cell_type": "code",
   "execution_count": 38,
   "metadata": {},
   "outputs": [
    {
     "data": {
      "text/plain": [
       "(2931, 54)"
      ]
     },
     "execution_count": 38,
     "metadata": {},
     "output_type": "execute_result"
    }
   ],
   "source": [
    "Xtrain.shape"
   ]
  },
  {
   "cell_type": "code",
   "execution_count": 39,
   "metadata": {},
   "outputs": [
    {
     "data": {
      "text/plain": [
       "(2931,)"
      ]
     },
     "execution_count": 39,
     "metadata": {},
     "output_type": "execute_result"
    }
   ],
   "source": [
    "ytrain.shape"
   ]
  },
  {
   "cell_type": "markdown",
   "metadata": {},
   "source": [
    "Обучим и оценим качество `примитивной модели` классификации на одном подмножестве обучающих данных"
   ]
  },
  {
   "cell_type": "code",
   "execution_count": 46,
   "metadata": {
    "scrolled": false
   },
   "outputs": [
    {
     "name": "stdout",
     "output_type": "stream",
     "text": [
      "accuracy: 0.49813780260707635\n"
     ]
    }
   ],
   "source": [
    "sample_size = Xtrain.shape[0]\n",
    "Xtr,ytr,Xoob,yoob = sample_bootstrap(Xtrain,ytrain, sample_size=sample_size, return_OOB_sample=True)\n",
    "model = DummyClassifier(strategy='uniform')\n",
    "model.fit(Xtr, ytr)\n",
    "yoob_pred = model.predict(Xoob)\n",
    "yoob_proba = model.predict_proba(Xoob)\n",
    "print('accuracy: ' + str(np.mean(np.squeeze(yoob_pred)==yoob)))"
   ]
  },
  {
   "cell_type": "code",
   "execution_count": null,
   "metadata": {},
   "outputs": [],
   "source": []
  }
 ],
 "metadata": {
  "kernelspec": {
   "display_name": "Python 3 (ipykernel)",
   "language": "python",
   "name": "python3"
  },
  "language_info": {
   "codemirror_mode": {
    "name": "ipython",
    "version": 3
   },
   "file_extension": ".py",
   "mimetype": "text/x-python",
   "name": "python",
   "nbconvert_exporter": "python",
   "pygments_lexer": "ipython3",
   "version": "3.8.11"
  }
 },
 "nbformat": 4,
 "nbformat_minor": 4
}
